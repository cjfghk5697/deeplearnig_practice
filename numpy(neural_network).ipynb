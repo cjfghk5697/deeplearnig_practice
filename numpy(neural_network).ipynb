{
  "nbformat": 4,
  "nbformat_minor": 0,
  "metadata": {
    "colab": {
      "name": "Untitled10.ipynb",
      "provenance": [],
      "authorship_tag": "ABX9TyP9Kpo1Bm9G6LvlhZ9rTPuC",
      "include_colab_link": true
    },
    "kernelspec": {
      "name": "python3",
      "display_name": "Python 3"
    },
    "language_info": {
      "name": "python"
    }
  },
  "cells": [
    {
      "cell_type": "markdown",
      "metadata": {
        "id": "view-in-github",
        "colab_type": "text"
      },
      "source": [
        "<a href=\"https://colab.research.google.com/github/cjfghk5697/deeplearnig_practice/blob/main/numpy(neural_network).ipynb\" target=\"_parent\"><img src=\"https://colab.research.google.com/assets/colab-badge.svg\" alt=\"Open In Colab\"/></a>"
      ]
    },
    {
      "cell_type": "markdown",
      "metadata": {
        "id": "kTgqB9H52CTV"
      },
      "source": [
        "<h1>다차원 배열의 계산</h1>\n",
        "다차원 배열은 신경망을 더욱 효율적으로 구현할 수 있다.\n",
        "<br> 다차원 배열도 기본은 숫자의 집합이다. 넘파이로 한번 구현 해보겠다."
      ]
    },
    {
      "cell_type": "code",
      "metadata": {
        "colab": {
          "base_uri": "https://localhost:8080/"
        },
        "id": "zcgCDp4S1cRJ",
        "outputId": "39dd8ee5-046e-43f9-eb40-923374262220"
      },
      "source": [
        "import numpy as np\n",
        "A=np.array([1,2,3,4])\n",
        "print(A)\n",
        "print(np.ndim(A))\n",
        "A.shape\n",
        "A.shape[0]"
      ],
      "execution_count": 4,
      "outputs": [
        {
          "output_type": "stream",
          "text": [
            "[1 2 3 4]\n",
            "1\n"
          ],
          "name": "stdout"
        },
        {
          "output_type": "execute_result",
          "data": {
            "text/plain": [
              "4"
            ]
          },
          "metadata": {
            "tags": []
          },
          "execution_count": 4
        }
      ]
    },
    {
      "cell_type": "markdown",
      "metadata": {
        "id": "JTI9iSiE3TSX"
      },
      "source": [
        "배열의 차원 수는 np.ndim() 함수로 확인할 수 있다. 또 배열의 형상은 인스터스 변수인 shape으로 알 수 있다.다만 A.shape이 튜플을 반환하는 것을 주의해야한다. 예를 들어 2차원 배열일때는 (4,3) 3차원 배열일때는 (4,3,2) 같은 튜플을 반환한다."
      ]
    },
    {
      "cell_type": "code",
      "metadata": {
        "colab": {
          "base_uri": "https://localhost:8080/"
        },
        "id": "iWQ1ulGC4JR0",
        "outputId": "fcc19e55-4f8f-4fb1-fd02-c2fc82bd9237"
      },
      "source": [
        "B=np.array([[1,2],[3,4],[5,6]])\n",
        "print(B)\n",
        "print(np.ndim(B))\n",
        "B.shape"
      ],
      "execution_count": 6,
      "outputs": [
        {
          "output_type": "stream",
          "text": [
            "[[1 2]\n",
            " [3 4]\n",
            " [5 6]]\n",
            "2\n"
          ],
          "name": "stdout"
        },
        {
          "output_type": "execute_result",
          "data": {
            "text/plain": [
              "(3, 2)"
            ]
          },
          "metadata": {
            "tags": []
          },
          "execution_count": 6
        }
      ]
    },
    {
      "cell_type": "markdown",
      "metadata": {
        "id": "hPZKSITt4oOw"
      },
      "source": [
        "여기서는 3*2 배열인 B를 작성했다. 즉 처음 차원에는 원속가 3개, 다음 차원에는 원소가 2개가 있다는 뜻이다.<br>이때 처음 차원은 0번째 차원, 다음 차원은 1번째 차원에 대응한다. 2차원 배열은 특히 행렬이라고 부르고 가로 방향을 행, 세로 방향을 열이라고 한다.\n",
        "<hr>\n",
        "<h1>행렬의 곱</h1>\n",
        "행렬의 곱은 왼쪽 행렬의 행(가로)과 오른쪽 행렬의 열(세로)을 원소별로 곱하고 그 값들을 더해서 계산한다. 그리고 그 값이 다차원 배열의 원소가 된다."
      ]
    },
    {
      "cell_type": "code",
      "metadata": {
        "colab": {
          "base_uri": "https://localhost:8080/"
        },
        "id": "0wwLjuIC4_2X",
        "outputId": "31e1f61a-2c7c-4dc6-f18e-c0d4f5029dc2"
      },
      "source": [
        "A=np.array([[1,2],[3,4]])\n",
        "print(A.shape)\n",
        "B=np.array([[5,6],[7,8]])\n",
        "print(B.shape)\n",
        "print(np.dot(A,B))"
      ],
      "execution_count": 7,
      "outputs": [
        {
          "output_type": "stream",
          "text": [
            "(2, 2)\n",
            "(2, 2)\n",
            "[[19 22]\n",
            " [43 50]]\n"
          ],
          "name": "stdout"
        }
      ]
    },
    {
      "cell_type": "markdown",
      "metadata": {
        "id": "ZJc90wDM4_gA"
      },
      "source": [
        "두 행렬의 곱은 np.dot()으로 계산한다. 주의할 것은 np.dot(A,B)와 np.dot(B,A)는 다른 값이 될 수 있다는 것이다.<br>\n",
        "그리고 '행렬의 형상'을 주의해야 한다. 구체적으로 말하자면 행렬의 A의 1번쨰 차원의 원소 수와 행렬 B의 0번째 차원의 원소 수가 같아야 한다."
      ]
    },
    {
      "cell_type": "code",
      "metadata": {
        "colab": {
          "base_uri": "https://localhost:8080/",
          "height": 274
        },
        "id": "TqurqwNs6eAc",
        "outputId": "9a015fd4-fdb3-4ea1-a698-03c5bd534e09"
      },
      "source": [
        "A=np.array([[1,2,3],[4,5,6]])\n",
        "C=np.array([[1,2],[3,4]])\n",
        "print(C.shape)\n",
        "print(A.shape)\n",
        "print(np.dot(A,C))\n"
      ],
      "execution_count": 10,
      "outputs": [
        {
          "output_type": "stream",
          "text": [
            "(2, 2)\n",
            "(2, 3)\n"
          ],
          "name": "stdout"
        },
        {
          "output_type": "error",
          "ename": "ValueError",
          "evalue": "ignored",
          "traceback": [
            "\u001b[0;31m---------------------------------------------------------------------------\u001b[0m",
            "\u001b[0;31mValueError\u001b[0m                                Traceback (most recent call last)",
            "\u001b[0;32m<ipython-input-10-292766eb35b9>\u001b[0m in \u001b[0;36m<module>\u001b[0;34m()\u001b[0m\n\u001b[1;32m      3\u001b[0m \u001b[0mprint\u001b[0m\u001b[0;34m(\u001b[0m\u001b[0mC\u001b[0m\u001b[0;34m.\u001b[0m\u001b[0mshape\u001b[0m\u001b[0;34m)\u001b[0m\u001b[0;34m\u001b[0m\u001b[0;34m\u001b[0m\u001b[0m\n\u001b[1;32m      4\u001b[0m \u001b[0mprint\u001b[0m\u001b[0;34m(\u001b[0m\u001b[0mA\u001b[0m\u001b[0;34m.\u001b[0m\u001b[0mshape\u001b[0m\u001b[0;34m)\u001b[0m\u001b[0;34m\u001b[0m\u001b[0;34m\u001b[0m\u001b[0m\n\u001b[0;32m----> 5\u001b[0;31m \u001b[0mprint\u001b[0m\u001b[0;34m(\u001b[0m\u001b[0mnp\u001b[0m\u001b[0;34m.\u001b[0m\u001b[0mdot\u001b[0m\u001b[0;34m(\u001b[0m\u001b[0mA\u001b[0m\u001b[0;34m,\u001b[0m\u001b[0mC\u001b[0m\u001b[0;34m)\u001b[0m\u001b[0;34m)\u001b[0m\u001b[0;34m\u001b[0m\u001b[0;34m\u001b[0m\u001b[0m\n\u001b[0m",
            "\u001b[0;32m<__array_function__ internals>\u001b[0m in \u001b[0;36mdot\u001b[0;34m(*args, **kwargs)\u001b[0m\n",
            "\u001b[0;31mValueError\u001b[0m: shapes (2,3) and (2,2) not aligned: 3 (dim 1) != 2 (dim 0)"
          ]
        }
      ]
    },
    {
      "cell_type": "markdown",
      "metadata": {
        "id": "nZRf7dUl62Cm"
      },
      "source": [
        "만약 크기가 안맞으면 이런 오류를 출력한다. 즉 다차원 배열을 곱하려면 두 행렬의 대응하는 차원의 원소 수를 일치시켜야 한다.\n",
        "<hr>\n",
        "<h1>신경망에서의 행렬 곱</h1>\n",
        "\n",
        "![image.png](data:image/png;base64,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)\n",
        "\n",
        "그림1 행렬의 곱으로 신경망의 계산을 수행한다.<BR>\n",
        "X W = Y<BR>\n",
        "2 2*3 3<BR>\n",
        "형상은 같다.\n"
      ]
    },
    {
      "cell_type": "code",
      "metadata": {
        "colab": {
          "base_uri": "https://localhost:8080/"
        },
        "id": "j8Z0XON47ft4",
        "outputId": "76d5692d-fea5-4082-b390-3d7f68bfac85"
      },
      "source": [
        "X= np.array([1,2])\n",
        "print(X.shape)\n",
        "W=np.array([[1,3,5],[2,4,6]])\n",
        "print(W)\n",
        "print(W.shape)\n",
        "Y=np.dot(X,W)\n",
        "print(Y)"
      ],
      "execution_count": 11,
      "outputs": [
        {
          "output_type": "stream",
          "text": [
            "(2,)\n",
            "[[1 3 5]\n",
            " [2 4 6]]\n",
            "(2, 3)\n",
            "[ 5 11 17]\n"
          ],
          "name": "stdout"
        }
      ]
    },
    {
      "cell_type": "markdown",
      "metadata": {
        "id": "jJNwRBlP7wDd"
      },
      "source": [
        "np.dot을 이용하면 이렇게 간단하게 해결 할 수 있다."
      ]
    }
  ]
}